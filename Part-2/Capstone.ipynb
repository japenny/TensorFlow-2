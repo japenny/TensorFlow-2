{
 "cells": [
  {
   "cell_type": "markdown",
   "metadata": {},
   "source": [
    "# Capstone Project\n",
    "## Neural translation model\n",
    "### Instructions\n",
    "\n",
    "In this notebook, you will create a neural network that translates from English to German. You will use concepts from throughout this course, including building more flexible model architectures, freezing layers, data processing pipeline and sequence modelling.\n",
    "\n",
    "This project is peer-assessed. Within this notebook you will find instructions in each section for how to complete the project. Pay close attention to the instructions as the peer review will be carried out according to a grading rubric that checks key parts of the project instructions. Feel free to add extra cells into the notebook as required.\n",
    "\n",
    "### How to submit\n",
    "\n",
    "When you have completed the Capstone project notebook, you will submit a pdf of the notebook for peer review. First ensure that the notebook has been fully executed from beginning to end, and all of the cell outputs are visible. This is important, as the grading rubric depends on the reviewer being able to view the outputs of your notebook. Save the notebook as a pdf (File -> Download as -> PDF via LaTeX). You should then submit this pdf for review.\n",
    "\n",
    "### Let's get started!\n",
    "\n",
    "We'll start by running some imports, and loading the dataset. For this project you are free to make further imports throughout the notebook as you wish. "
   ]
  },
  {
   "cell_type": "code",
   "execution_count": 1,
   "metadata": {},
   "outputs": [],
   "source": [
    "import tensorflow as tf\n",
    "from tensorflow.keras.models import Model\n",
    "from tensorflow.keras.layers import Layer, Input, Masking, LSTM, Embedding, Dense, concatenate\n",
    "import tensorflow_hub as hub\n",
    "import unicodedata\n",
    "import re\n",
    "import numpy as np\n",
    "import pandas as pd\n",
    "import time\n",
    "import matplotlib.pyplot as plt"
   ]
  },
  {
   "cell_type": "markdown",
   "metadata": {},
   "source": [
    "![Flags overview image](data/germany_uk_flags.png)\n",
    "\n",
    "For the capstone project, you will use a language dataset from http://www.manythings.org/anki/ to build a neural translation model. This dataset consists of over 200,000 pairs of sentences in English and German. In order to make the training quicker, we will restrict to our dataset to 20,000 pairs. Feel free to change this if you wish - the size of the dataset used is not part of the grading rubric.\n",
    "\n",
    "Your goal is to develop a neural translation model from English to German, making use of a pre-trained English word embedding module."
   ]
  },
  {
   "cell_type": "code",
   "execution_count": 2,
   "metadata": {},
   "outputs": [],
   "source": [
    "# Run this cell to load the dataset\n",
    "\n",
    "NUM_EXAMPLES = 20000\n",
    "data_examples = []\n",
    "\n",
    "with open('data/deu.txt', 'r', encoding='utf8') as f:\n",
    "    for line in f.readlines():\n",
    "        if len(data_examples) < NUM_EXAMPLES:\n",
    "            data_examples.append(line)\n",
    "        else:\n",
    "            break"
   ]
  },
  {
   "cell_type": "code",
   "execution_count": 3,
   "metadata": {},
   "outputs": [],
   "source": [
    "# These functions preprocess English and German sentences\n",
    "\n",
    "def unicode_to_ascii(s):\n",
    "    return ''.join(c for c in unicodedata.normalize('NFD', s) if unicodedata.category(c) != 'Mn')\n",
    "\n",
    "def preprocess_sentence(sentence):\n",
    "    sentence = sentence.lower().strip()\n",
    "    sentence = re.sub(r\"ü\", 'ue', sentence)\n",
    "    sentence = re.sub(r\"ä\", 'ae', sentence)\n",
    "    sentence = re.sub(r\"ö\", 'oe', sentence)\n",
    "    sentence = re.sub(r'ß', 'ss', sentence)\n",
    "    \n",
    "    sentence = unicode_to_ascii(sentence)\n",
    "    sentence = re.sub(r\"([?.!,])\", r\" \\1 \", sentence)\n",
    "    sentence = re.sub(r\"[^a-z?.!,']+\", \" \", sentence)\n",
    "    sentence = re.sub(r'[\" \"]+', \" \", sentence)\n",
    "    \n",
    "    return sentence.strip()"
   ]
  },
  {
   "cell_type": "markdown",
   "metadata": {},
   "source": [
    "#### The custom translation model\n",
    "The following is a schematic of the custom translation model architecture you will develop in this project.\n",
    "\n",
    "![Model Schematic](data/neural_translation_model.png)\n",
    "\n",
    "Key:\n",
    "![Model key](data/neural_translation_model_key.png)\n",
    "\n",
    "The custom model consists of an encoder RNN and a decoder RNN. The encoder takes words of an English sentence as input, and uses a pre-trained word embedding to embed the words into a 128-dimensional space. To indicate the end of the input sentence, a special end token (in the same 128-dimensional space) is passed in as an input. This token is a TensorFlow Variable that is learned in the training phase (unlike the pre-trained word embedding, which is frozen).\n",
    "\n",
    "The decoder RNN takes the internal state of the encoder network as its initial state. A start token is passed in as the first input, which is embedded using a learned German word embedding. The decoder RNN then makes a prediction for the next German word, which during inference is then passed in as the following input, and this process is repeated until the special `<end>` token is emitted from the decoder."
   ]
  },
  {
   "cell_type": "markdown",
   "metadata": {},
   "source": [
    "## 1. Text preprocessing\n",
    "* Create separate lists of English and German sentences, and preprocess them using the `preprocess_sentence` function provided for you above.\n",
    "* Add a special `\"<start>\"` and `\"<end>\"` token to the beginning and end of every German sentence.\n",
    "* Use the Tokenizer class from the `tf.keras.preprocessing.text` module to tokenize the German sentences, ensuring that no character filters are applied. _Hint: use the Tokenizer's \"filter\" keyword argument._\n",
    "* Print out at least 5 randomly chosen examples of (preprocessed) English and German sentence pairs. For the German sentence, print out the text (with start and end tokens) as well as the tokenized sequence.\n",
    "* Pad the end of the tokenized German sequences with zeros, and batch the complete set of sequences into one numpy array."
   ]
  },
  {
   "cell_type": "code",
   "execution_count": 4,
   "metadata": {},
   "outputs": [],
   "source": [
    "# Preprocess the data\n",
    "\n",
    "prepro_sent_vec = np.vectorize(preprocess_sentence)\n",
    "prepro_data = prepro_sent_vec(data_examples)"
   ]
  },
  {
   "cell_type": "code",
   "execution_count": 5,
   "metadata": {},
   "outputs": [
    {
     "name": "stdout",
     "output_type": "stream",
     "text": [
      "<class 'numpy.ndarray'> (20000,) <class 'numpy.ndarray'> (20000,)\n"
     ]
    }
   ],
   "source": [
    "# Add sos and eos tokens\n",
    "\n",
    "punc = {'!', '.', ',', '?',';',':'}\n",
    "def split_func(sent):\n",
    "    data = []\n",
    "    prev = 0\n",
    "    \n",
    "    for val, char in enumerate(sent):\n",
    "        if not prev and char in punc:\n",
    "            data.append(sent[:val+1])\n",
    "            prev = val+1\n",
    "        elif char in punc:\n",
    "            data.append(sent[prev:val+1])\n",
    "            break\n",
    "    return data\n",
    "\n",
    "split_data = [np.array(split_func(sent)) for sent in prepro_data]\n",
    "seos_data = np.array([np.array([x, f'<sos> {y} <eos>']) for x,y in split_data])\n",
    "\n",
    "english_pre, german_pre = np.squeeze(seos_data[:, :1]), np.squeeze(seos_data[:, 1:])\n",
    "\n",
    "print(type(english_pre), english_pre.shape, type(german_pre), german_pre.shape)"
   ]
  },
  {
   "cell_type": "code",
   "execution_count": 6,
   "metadata": {},
   "outputs": [],
   "source": [
    "# Tokenize the data\n",
    "\n",
    "tokenizer = tf.keras.preprocessing.text.Tokenizer(filters='')\n",
    "tokenizer.fit_on_texts(german_pre)"
   ]
  },
  {
   "cell_type": "code",
   "execution_count": 7,
   "metadata": {},
   "outputs": [],
   "source": [
    "# Get German Sequences\n",
    "\n",
    "german_seq = tokenizer.texts_to_sequences(german_pre)\n",
    "german_seq = tf.keras.preprocessing.sequence.pad_sequences(german_seq,\n",
    "                                                           padding='post')"
   ]
  },
  {
   "cell_type": "code",
   "execution_count": 8,
   "metadata": {},
   "outputs": [
    {
     "name": "stdout",
     "output_type": "stream",
     "text": [
      "English:\"can you hear it ?\"\n",
      "German:\"<sos>  kannst du es hoeren ? <eos>\"\n",
      "German Sequence: \"[  1 107  13  10 319   7   2   0   0   0   0   0]\"\n",
      "\n",
      "English:\"have a nice trip .\"\n",
      "German:\"<sos>  gute reise ! <eos>\"\n",
      "German Sequence: \"[  1 384 559   9   2   0   0   0   0   0   0   0]\"\n",
      "\n",
      "English:\"it's rush hour .\"\n",
      "German:\"<sos>  es ist hauptverkehrszeit . <eos>\"\n",
      "German Sequence: \"[   1   10    6 3970    3    2    0    0    0    0    0    0]\"\n",
      "\n",
      "English:\"my arm hurts .\"\n",
      "German:\"<sos>  mir tut der arm weh . <eos>\"\n",
      "German Sequence: \"[  1  20 158  49 285 174   3   2   0   0   0   0]\"\n",
      "\n",
      "English:\"tom is talented .\"\n",
      "German:\"<sos>  tom ist talentiert . <eos>\"\n",
      "German Sequence: \"[   1    5    6 4596    3    2    0    0    0    0    0    0]\"\n",
      "\n"
     ]
    }
   ],
   "source": [
    "# Examples\n",
    "\n",
    "for index in np.random.randint(0, 20_000, 5):\n",
    "    print(f'English:\"{english_pre[index]}\"\\nGerman:\"{german_pre[index]}\"\\nGerman Sequence: \"{german_seq[index]}\"\\n')"
   ]
  },
  {
   "cell_type": "code",
   "execution_count": 9,
   "metadata": {},
   "outputs": [
    {
     "name": "stdout",
     "output_type": "stream",
     "text": [
      "<class 'numpy.ndarray'> (20000,) <class 'numpy.ndarray'> (20000,) <class 'numpy.ndarray'> (20000, 12)\n"
     ]
    }
   ],
   "source": [
    "print(type(english_pre), english_pre.shape, type(german_pre), german_pre.shape, type(german_seq), german_seq.shape)"
   ]
  },
  {
   "cell_type": "markdown",
   "metadata": {},
   "source": [
    "## 2. Prepare the data with tf.data.Dataset objects"
   ]
  },
  {
   "cell_type": "markdown",
   "metadata": {},
   "source": [
    "#### Load the embedding layer\n",
    "As part of the dataset preproceessing for this project, you will use a pre-trained English word embedding module from TensorFlow Hub. The URL for the module is https://tfhub.dev/google/tf2-preview/nnlm-en-dim128-with-normalization/1. This module has also been made available as a complete saved model in the folder `'./models/tf2-preview_nnlm-en-dim128_1'`. \n",
    "\n",
    "This embedding takes a batch of text tokens in a 1-D tensor of strings as input. It then embeds the separate tokens into a 128-dimensional space. \n",
    "\n",
    "The code to load and test the embedding layer is provided for you below.\n",
    "\n",
    "**NB:** this model can also be used as a sentence embedding module. The module will process each token by removing punctuation and splitting on spaces. It then averages the word embeddings over a sentence to give a single embedding vector. However, we will use it only as a word embedding module, and will pass each word in the input sentence as a separate token."
   ]
  },
  {
   "cell_type": "code",
   "execution_count": 10,
   "metadata": {},
   "outputs": [],
   "source": [
    "# Load embedding module from Tensorflow Hub\n",
    "\n",
    "embedding_layer = hub.KerasLayer('./models/tf2-preview_nnlm-en-dim128_1', \n",
    "                                 output_shape=[128], input_shape=[], dtype=tf.string)"
   ]
  },
  {
   "cell_type": "code",
   "execution_count": 11,
   "metadata": {},
   "outputs": [
    {
     "data": {
      "text/plain": [
       "TensorShape([7, 128])"
      ]
     },
     "execution_count": 11,
     "metadata": {},
     "output_type": "execute_result"
    }
   ],
   "source": [
    "# Test the layer\n",
    "\n",
    "embedding_layer(tf.constant([\"these\", \"aren't\", \"the\", \"droids\", \"you're\", \"looking\", \"for\"])).shape"
   ]
  },
  {
   "cell_type": "markdown",
   "metadata": {},
   "source": [
    "You should now prepare the training and validation Datasets.\n",
    "\n",
    "* Create a random training and validation set split of the data, reserving e.g. 20% of the data for validation (NB: each English dataset example is a single sentence string, and each German dataset example is a sequence of padded integer tokens).\n",
    "* Load the training and validation sets into a tf.data.Dataset object, passing in a tuple of English and German data for both training and validation sets.\n",
    "* Create a function to map over the datasets that splits each English sentence at spaces. Apply this function to both Dataset objects using the map method. _Hint: look at the tf.strings.split function._\n",
    "* Create a function to map over the datasets that embeds each sequence of English words using the loaded embedding layer/model. Apply this function to both Dataset objects using the map method.\n",
    "* Create a function to filter out dataset examples where the English sentence is more than 13 (embedded) tokens in length. Apply this function to both Dataset objects using the filter method.\n",
    "* Create a function to map over the datasets that pads each English sequence of embeddings with some distinct padding value before the sequence, so that each sequence is length 13. Apply this function to both Dataset objects using the map method. _Hint: look at the tf.pad function. You can extract a Tensor shape using tf.shape; you might also find the tf.math.maximum function useful._\n",
    "* Batch both training and validation Datasets with a batch size of 16.\n",
    "* Print the `element_spec` property for the training and validation Datasets. \n",
    "* Using the Dataset `.take(1)` method, print the shape of the English data example from the training Dataset.\n",
    "* Using the Dataset `.take(1)` method, print the German data example Tensor from the validation Dataset."
   ]
  },
  {
   "cell_type": "code",
   "execution_count": 12,
   "metadata": {},
   "outputs": [],
   "source": [
    "# Split english data by space\n",
    "\n",
    "def split_sentence(english, german_sequence):\n",
    "    split_sentence = tf.strings.split(english, sep=' ')\n",
    "    return (split_sentence, german_sequence)"
   ]
  },
  {
   "cell_type": "code",
   "execution_count": 13,
   "metadata": {},
   "outputs": [],
   "source": [
    "# Embed english data with embedding layer\n",
    "\n",
    "def embed_english(english, german_sequence):\n",
    "    eng_emb = embedding_layer(english)\n",
    "    return (eng_emb, german_sequence)"
   ]
  },
  {
   "cell_type": "code",
   "execution_count": 14,
   "metadata": {},
   "outputs": [],
   "source": [
    "# Filter english data which is greater than 13\n",
    "\n",
    "def filter_english(english, german_sequence):\n",
    "    shape = tf.shape(english)[0]\n",
    "    return shape <= 13"
   ]
  },
  {
   "cell_type": "code",
   "execution_count": 15,
   "metadata": {},
   "outputs": [],
   "source": [
    "# Pad english data to 13\n",
    "\n",
    "def pad_english(english, german_sequence):\n",
    "    paddings = tf.constant([[13,0], [0,0]])\n",
    "    english_pad = tf.pad(english, paddings)\n",
    "    return (english_pad[-13:], german_sequence)"
   ]
  },
  {
   "cell_type": "code",
   "execution_count": 16,
   "metadata": {},
   "outputs": [],
   "source": [
    "# Create tf datasets\n",
    "dataset = tf.data.Dataset.from_tensor_slices((english_pre, german_seq))\n",
    "\n",
    "# Create training and validation datasets\n",
    "take_num = int(0.8 * 20_000)\n",
    "train_dataset = dataset.take(take_num)\n",
    "valid_dataset = dataset.skip(take_num)\n",
    "\n",
    "def modify_english(mod_dataset):\n",
    "    # Split each english sentence\n",
    "    mod_dataset = mod_dataset.map(split_sentence)\n",
    "\n",
    "    # Embed english sequence\n",
    "    mod_dataset = mod_dataset.map(embed_english)\n",
    "\n",
    "    # Filter out english sentences that are >= 13\n",
    "    mod_dataset = mod_dataset.filter(filter_english)\n",
    "\n",
    "    # Pad the english data\n",
    "    mod_dataset = mod_dataset.map(pad_english)\n",
    "    \n",
    "    return mod_dataset\n",
    "    \n",
    "# Create training/validation data\n",
    "train_dataset = modify_english(train_dataset)\n",
    "valid_dataset = modify_english(valid_dataset)\n",
    "\n",
    "# Batch data\n",
    "train_dataset = train_dataset.batch(16, drop_remainder=True)\n",
    "valid_dataset = valid_dataset.batch(16, drop_remainder=True)"
   ]
  },
  {
   "cell_type": "code",
   "execution_count": 17,
   "metadata": {},
   "outputs": [
    {
     "name": "stdout",
     "output_type": "stream",
     "text": [
      "(TensorSpec(shape=(16, None, 128), dtype=tf.float32, name=None), TensorSpec(shape=(16, 12), dtype=tf.int32, name=None))\n",
      "(TensorSpec(shape=(16, None, 128), dtype=tf.float32, name=None), TensorSpec(shape=(16, 12), dtype=tf.int32, name=None))\n"
     ]
    }
   ],
   "source": [
    "# Print element spec\n",
    "print(train_dataset.element_spec)\n",
    "print(valid_dataset.element_spec)"
   ]
  },
  {
   "cell_type": "code",
   "execution_count": 18,
   "metadata": {},
   "outputs": [
    {
     "name": "stdout",
     "output_type": "stream",
     "text": [
      "English shape:  (16, 13, 128)\n",
      "tf.Tensor(\n",
      "[[[ 0.          0.          0.         ...  0.          0.\n",
      "    0.        ]\n",
      "  [ 0.          0.          0.         ...  0.          0.\n",
      "    0.        ]\n",
      "  [ 0.          0.          0.         ...  0.          0.\n",
      "    0.        ]\n",
      "  ...\n",
      "  [ 0.          0.          0.         ...  0.          0.\n",
      "    0.        ]\n",
      "  [-0.0159534   0.03081326  0.12457678 ... -0.03782218  0.11103857\n",
      "   -0.02967814]\n",
      "  [ 0.012986    0.08981702  0.16017003 ...  0.06796802  0.13528903\n",
      "   -0.022035  ]]\n",
      "\n",
      " [[ 0.          0.          0.         ...  0.          0.\n",
      "    0.        ]\n",
      "  [ 0.          0.          0.         ...  0.          0.\n",
      "    0.        ]\n",
      "  [ 0.          0.          0.         ...  0.          0.\n",
      "    0.        ]\n",
      "  ...\n",
      "  [ 0.          0.          0.         ...  0.          0.\n",
      "    0.        ]\n",
      "  [-0.0159534   0.03081326  0.12457678 ... -0.03782218  0.11103857\n",
      "   -0.02967814]\n",
      "  [ 0.012986    0.08981702  0.16017003 ...  0.06796802  0.13528903\n",
      "   -0.022035  ]]\n",
      "\n",
      " [[ 0.          0.          0.         ...  0.          0.\n",
      "    0.        ]\n",
      "  [ 0.          0.          0.         ...  0.          0.\n",
      "    0.        ]\n",
      "  [ 0.          0.          0.         ...  0.          0.\n",
      "    0.        ]\n",
      "  ...\n",
      "  [ 0.          0.          0.         ...  0.          0.\n",
      "    0.        ]\n",
      "  [ 0.07018333  0.03803322  0.02655614 ... -0.04965181  0.24516077\n",
      "   -0.00160697]\n",
      "  [-0.02885591  0.11113551  0.13474926 ...  0.09192991  0.1173007\n",
      "   -0.01730555]]\n",
      "\n",
      " ...\n",
      "\n",
      " [[ 0.          0.          0.         ...  0.          0.\n",
      "    0.        ]\n",
      "  [ 0.          0.          0.         ...  0.          0.\n",
      "    0.        ]\n",
      "  [ 0.          0.          0.         ...  0.          0.\n",
      "    0.        ]\n",
      "  ...\n",
      "  [ 0.02946267  0.0214976   0.12534763 ...  0.13532923 -0.03474604\n",
      "   -0.11004665]\n",
      "  [ 0.18248607  0.20725094 -0.17924513 ... -0.04790049  0.08231261\n",
      "   -0.18517673]\n",
      "  [ 0.012986    0.08981702  0.16017003 ...  0.06796802  0.13528903\n",
      "   -0.022035  ]]\n",
      "\n",
      " [[ 0.          0.          0.         ...  0.          0.\n",
      "    0.        ]\n",
      "  [ 0.          0.          0.         ...  0.          0.\n",
      "    0.        ]\n",
      "  [ 0.          0.          0.         ...  0.          0.\n",
      "    0.        ]\n",
      "  ...\n",
      "  [ 0.02946267  0.0214976   0.12534763 ...  0.13532923 -0.03474604\n",
      "   -0.11004665]\n",
      "  [ 0.18248607  0.20725094 -0.17924513 ... -0.04790049  0.08231261\n",
      "   -0.18517673]\n",
      "  [ 0.012986    0.08981702  0.16017003 ...  0.06796802  0.13528903\n",
      "   -0.022035  ]]\n",
      "\n",
      " [[ 0.          0.          0.         ...  0.          0.\n",
      "    0.        ]\n",
      "  [ 0.          0.          0.         ...  0.          0.\n",
      "    0.        ]\n",
      "  [ 0.          0.          0.         ...  0.          0.\n",
      "    0.        ]\n",
      "  ...\n",
      "  [ 0.02946267  0.0214976   0.12534763 ...  0.13532923 -0.03474604\n",
      "   -0.11004665]\n",
      "  [ 0.11215195  0.05791705 -0.08834728 ... -0.03416832  0.17881724\n",
      "    0.04126732]\n",
      "  [ 0.012986    0.08981702  0.16017003 ...  0.06796802  0.13528903\n",
      "   -0.022035  ]]], shape=(16, 13, 128), dtype=float32)\n",
      "German shape (16, 12)\n",
      "tf.Tensor(\n",
      "[[   1   11    6  100  855    3    2    0    0    0    0    0]\n",
      " [   1   11    6   19 5147    3    2    0    0    0    0    0]\n",
      " [   1   49  419    6  420    3    2    0    0    0    0    0]\n",
      " [   1   25 1418 2744 5148    3    2    0    0    0    0    0]\n",
      " [   1   25 1418    6  367    9    2    0    0    0    0    0]\n",
      " [   1   11 1368    6  375    3    2    0    0    0    0    0]\n",
      " [   1   25 5149    6  931    3    2    0    0    0    0    0]\n",
      " [   1  250    3    2    0    0    0    0    0    0    0    0]\n",
      " [   1  250    3    2    0    0    0    0    0    0    0    0]\n",
      " [   1   49 1579    6  326    3    2    0    0    0    0    0]\n",
      " [   1   11  108    6   33    3    2    0    0    0    0    0]\n",
      " [   1   11  108    6  572    3    2    0    0    0    0    0]\n",
      " [   1   11  108    6   84    3    2    0    0    0    0    0]\n",
      " [   1   25 2237    6  931    3    2    0    0    0    0    0]\n",
      " [   1   25 2239    6  931    3    2    0    0    0    0    0]\n",
      " [   1   25 2239    6  462    3    2    0    0    0    0    0]], shape=(16, 12), dtype=int32)\n"
     ]
    }
   ],
   "source": [
    "# Training english example\n",
    "for eng_ex, _ in train_dataset.take(1):\n",
    "    print(\"English shape: \", eng_ex.shape)\n",
    "    print(eng_ex)\n",
    "    \n",
    "# Validation german example\n",
    "for _, ger_ex in valid_dataset.take(1):\n",
    "    print(\"German shape\",ger_ex.shape)\n",
    "    print(ger_ex)"
   ]
  },
  {
   "cell_type": "markdown",
   "metadata": {},
   "source": [
    "## 3. Create the custom layer\n",
    "You will now create a custom layer to add the learned end token embedding to the encoder model:\n",
    "\n",
    "![Encoder schematic](data/neural_translation_model_encoder.png)"
   ]
  },
  {
   "cell_type": "markdown",
   "metadata": {},
   "source": [
    "You should now build the custom layer.\n",
    "* Using layer subclassing, create a custom layer that takes a batch of English data examples from one of the Datasets, and adds a learned embedded ‘end’ token to the end of each sequence. \n",
    "* This layer should create a TensorFlow Variable (that will be learned during training) that is 128-dimensional (the size of the embedding space). _Hint: you may find it helpful in the call method to use the tf.tile function to replicate the end token embedding across every element in the batch._\n",
    "* Using the Dataset `.take(1)` method, extract a batch of English data examples from the training Dataset and print the shape. Test the custom layer by calling the layer on the English data batch Tensor and print the resulting Tensor shape (the layer should increase the sequence length by one)."
   ]
  },
  {
   "cell_type": "code",
   "execution_count": 19,
   "metadata": {},
   "outputs": [],
   "source": [
    "# Create custom layer using subclassing\n",
    "class AddEnd(Layer):\n",
    "    \n",
    "    def __init__(self, **kwargs):\n",
    "        # Initialize class\n",
    "        super(AddEnd, self).__init__(**kwargs)\n",
    "        \n",
    "    def build(self, input_shape):\n",
    "        # Create trainable tensor variable\n",
    "        self.emb_token = tf.Variable(tf.random.uniform(shape=(1, 1, input_shape[-1])),\n",
    "                                     trainable=True)\n",
    "    \n",
    "    def call(self, inputs, training=False):\n",
    "        # Add learned embedded token to end of inputs\n",
    "        input_0 = tf.shape(inputs)[0]\n",
    "        tiles = tf.tile(self.emb_token, [input_0, 1, 1])\n",
    "        concat = concatenate([inputs, tiles], axis=1)\n",
    "        return concat\n",
    "        "
   ]
  },
  {
   "cell_type": "code",
   "execution_count": 20,
   "metadata": {},
   "outputs": [
    {
     "name": "stdout",
     "output_type": "stream",
     "text": [
      "(16, 14, 128)\n"
     ]
    }
   ],
   "source": [
    "# Display example of custom layer\n",
    "\n",
    "end_layer = AddEnd()\n",
    "\n",
    "for english, german in train_dataset.take(1):\n",
    "    add_end = end_layer(english)\n",
    "    print(add_end.shape)"
   ]
  },
  {
   "cell_type": "markdown",
   "metadata": {},
   "source": [
    "## 4. Build the encoder network\n",
    "The encoder network follows the schematic diagram above. You should now build the RNN encoder model.\n",
    "* Using the functional API, build the encoder network according to the following spec:\n",
    "    * The model will take a batch of sequences of embedded English words as input, as given by the Dataset objects.\n",
    "    * The next layer in the encoder will be the custom layer you created previously, to add a learned end token embedding to the end of the English sequence.\n",
    "    * This is followed by a Masking layer, with the `mask_value` set to the distinct padding value you used when you padded the English sequences with the Dataset preprocessing above.\n",
    "    * The final layer is an LSTM layer with 512 units, which also returns the hidden and cell states.\n",
    "    * The encoder is a multi-output model. There should be two output Tensors of this model: the hidden state and cell states of the LSTM layer. The output of the LSTM layer is unused.\n",
    "* Using the Dataset `.take(1)` method, extract a batch of English data examples from the training Dataset and test the encoder model by calling it on the English data Tensor, and print the shape of the resulting Tensor outputs.\n",
    "* Print the model summary for the encoder network."
   ]
  },
  {
   "cell_type": "code",
   "execution_count": 21,
   "metadata": {},
   "outputs": [],
   "source": [
    "# Build encoder network\n",
    "\n",
    "def build_encode(input_shape):\n",
    "    # Create input layer\n",
    "    inputs = Input(shape=input_shape)\n",
    "    \n",
    "    # Add custom layer, masking and lstm layers\n",
    "    end_token = AddEnd()(inputs)\n",
    "    mask = Masking(mask_value=0)(end_token)\n",
    "    _, hidden, cell = LSTM(512, return_sequences=True, return_state=True)(mask)\n",
    "    \n",
    "    # Create encoder model\n",
    "    model = Model(inputs=inputs, outputs=[hidden, cell])    \n",
    "    return model"
   ]
  },
  {
   "cell_type": "code",
   "execution_count": 22,
   "metadata": {},
   "outputs": [
    {
     "name": "stdout",
     "output_type": "stream",
     "text": [
      "English (16, 13, 128)\n",
      "Hidden (16, 512)\n",
      "Cell (16, 512)\n",
      "Model: \"model\"\n",
      "_________________________________________________________________\n",
      "Layer (type)                 Output Shape              Param #   \n",
      "=================================================================\n",
      "input_1 (InputLayer)         [(None, 13, 128)]         0         \n",
      "_________________________________________________________________\n",
      "add_end_1 (AddEnd)           (None, 14, 128)           128       \n",
      "_________________________________________________________________\n",
      "masking (Masking)            (None, 14, 128)           0         \n",
      "_________________________________________________________________\n",
      "lstm (LSTM)                  [(None, 14, 512), (None,  1312768   \n",
      "=================================================================\n",
      "Total params: 1,312,896\n",
      "Trainable params: 1,312,896\n",
      "Non-trainable params: 0\n",
      "_________________________________________________________________\n"
     ]
    }
   ],
   "source": [
    "# Display example/summary of encoder network\n",
    "encode_model = build_encode((13, 128))\n",
    "\n",
    "for english, german in train_dataset.take(1):\n",
    "    hidden, cell = encode_model(english)\n",
    "    print(\"English\", english.shape)\n",
    "    print(\"Hidden\", hidden.shape)\n",
    "    print(\"Cell\", cell.shape)\n",
    "    \n",
    "encode_model.summary()"
   ]
  },
  {
   "cell_type": "markdown",
   "metadata": {},
   "source": [
    "## 5. Build the decoder network\n",
    "The decoder network follows the schematic diagram below. \n",
    "\n",
    "![Decoder schematic](data/neural_translation_model_decoder.png)"
   ]
  },
  {
   "cell_type": "markdown",
   "metadata": {},
   "source": [
    "You should now build the RNN decoder model.\n",
    "* Using Model subclassing, build the decoder network according to the following spec:\n",
    "    * The initializer should create the following layers:\n",
    "        * An Embedding layer with vocabulary size set to the number of unique German tokens, embedding dimension 128, and set to mask zero values in the input.\n",
    "        * An LSTM layer with 512 units, that returns its hidden and cell states, and also returns sequences.\n",
    "        * A Dense layer with number of units equal to the number of unique German tokens, and no activation function.\n",
    "    * The call method should include the usual `inputs` argument, as well as the additional keyword arguments `hidden_state` and `cell_state`. The default value for these keyword arguments should be `None`.\n",
    "    * The call method should pass the inputs through the Embedding layer, and then through the LSTM layer. If the `hidden_state` and `cell_state` arguments are provided, these should be used for the initial state of the LSTM layer. _Hint: use the_ `initial_state` _keyword argument when calling the LSTM layer on its input._\n",
    "    * The call method should pass the LSTM output sequence through the Dense layer, and return the resulting Tensor, along with the hidden and cell states of the LSTM layer.\n",
    "* Using the Dataset `.take(1)` method, extract a batch of English and German data examples from the training Dataset. Test the decoder model by first calling the encoder model on the English data Tensor to get the hidden and cell states, and then call the decoder model on the German data Tensor and hidden and cell states, and print the shape of the resulting decoder Tensor outputs.\n",
    "* Print the model summary for the decoder network."
   ]
  },
  {
   "cell_type": "code",
   "execution_count": 23,
   "metadata": {},
   "outputs": [],
   "source": [
    "# Build decoder model\n",
    "\n",
    "class DecoderModel(Model):\n",
    "    \n",
    "    def __init__(self, **kwargs):\n",
    "        # Initialize class\n",
    "        super(DecoderModel, self).__init__(**kwargs)\n",
    "        self.vocab_size = len(tokenizer.word_index)+1\n",
    "        \n",
    "    def build(self, input_shape):\n",
    "        # Build embed, lstm and dense layer\n",
    "        self.embed = Embedding(self.vocab_size, 128, mask_zero=True)\n",
    "        self.lstm = LSTM(512, return_sequences=True, return_state=True)\n",
    "        self.dense = Dense(self.vocab_size)\n",
    "    \n",
    "    def call(self, inputs, hidden_state=None, cell_state=None):\n",
    "        \n",
    "        embed_output = self.embed(inputs)\n",
    "        if hidden_state is None and cell_state is None:\n",
    "            lstm_output = self.lstm(embed_output)\n",
    "        else:\n",
    "            lstm_output, hidden, cell = self.lstm(embed_output, initial_state=[hidden_state, cell_state])\n",
    "        dense_output = self.dense(lstm_output)\n",
    "        return dense_output, hidden, cell   "
   ]
  },
  {
   "cell_type": "code",
   "execution_count": 24,
   "metadata": {},
   "outputs": [
    {
     "name": "stdout",
     "output_type": "stream",
     "text": [
      "Output: (16, 12, 5796)\n",
      "Hidden: (16, 512)\n",
      "Cell:   (16, 512)\n",
      "Model: \"decoder_model\"\n",
      "_________________________________________________________________\n",
      "Layer (type)                 Output Shape              Param #   \n",
      "=================================================================\n",
      "embedding (Embedding)        multiple                  741888    \n",
      "_________________________________________________________________\n",
      "lstm_1 (LSTM)                multiple                  1312768   \n",
      "_________________________________________________________________\n",
      "dense (Dense)                multiple                  2973348   \n",
      "=================================================================\n",
      "Total params: 5,028,004\n",
      "Trainable params: 5,028,004\n",
      "Non-trainable params: 0\n",
      "_________________________________________________________________\n"
     ]
    }
   ],
   "source": [
    "# Display decoder example/summary\n",
    "\n",
    "decoder_model = DecoderModel()\n",
    "\n",
    "for english, german in train_dataset.take(1):\n",
    "    hidden, cell = encode_model(english)\n",
    "    output, hidden, cell = decoder_model(german, hidden, cell)\n",
    "    print(f'Output: {output.shape}')\n",
    "    print(f'Hidden: {hidden.shape}')\n",
    "    print(f'Cell:   {cell.shape}')\n",
    "\n",
    "decoder_model.summary()"
   ]
  },
  {
   "cell_type": "markdown",
   "metadata": {},
   "source": [
    "## 6. Make a custom training loop\n",
    "You should now write a custom training loop to train your custom neural translation model.\n",
    "* Define a function that takes a Tensor batch of German data (as extracted from the training Dataset), and returns a tuple containing German inputs and outputs for the decoder model (refer to schematic diagram above).\n",
    "* Define a function that computes the forward and backward pass for your translation model. This function should take an English input, German input and German output as arguments, and should do the following:\n",
    "    * Pass the English input into the encoder, to get the hidden and cell states of the encoder LSTM.\n",
    "    * These hidden and cell states are then passed into the decoder, along with the German inputs, which returns a sequence of outputs (the hidden and cell state outputs of the decoder LSTM are unused in this function).\n",
    "    * The loss should then be computed between the decoder outputs and the German output function argument.\n",
    "    * The function returns the loss and gradients with respect to the encoder and decoder’s trainable variables.\n",
    "    * Decorate the function with @tf.function\n",
    "* Define and run a custom training loop for a number of epochs (for you to choose) that does the following:\n",
    "    * Iterates through the training dataset, and creates decoder inputs and outputs from the German sequences.\n",
    "    * Updates the parameters of the translation model using the gradients of the function above and an optimizer object.\n",
    "    * Every epoch, compute the validation loss on a number of batches from the validation and save the epoch training and validation losses.\n",
    "* Plot the learning curves for loss vs epoch for both training and validation sets.\n",
    "\n",
    "_Hint: This model is computationally demanding to train. The quality of the model or length of training is not a factor in the grading rubric. However, to obtain a better model we recommend using the GPU accelerator hardware on Colab._"
   ]
  },
  {
   "cell_type": "code",
   "execution_count": 91,
   "metadata": {},
   "outputs": [],
   "source": [
    "# Alter german input to graph above\n",
    "\n",
    "def german_inout(german):\n",
    "    german_inputs = german[:,:-1]\n",
    "    german_outputs = german[:,1:]\n",
    "    return (german_inputs, german_outputs)\n",
    "    "
   ]
  },
  {
   "cell_type": "code",
   "execution_count": 92,
   "metadata": {},
   "outputs": [],
   "source": [
    "# Create gradient function\n",
    "\n",
    "@tf.function\n",
    "def grad_fn(encode_model, decode_model, loss_fn, english, german):\n",
    "    with tf.GradientTape() as tape:\n",
    "        # Pass german input to german_inout\n",
    "        german_input, german_output = german_inout(german)\n",
    "        \n",
    "        # Pass english through encoder model\n",
    "        encode_hidden, encode_cell = encode_model(english)\n",
    "        \n",
    "        # Pass german_in, hidden, and cell outputs form encoder to decoder\n",
    "        preds, _, _ = decode_model(german_input, encode_hidden, encode_cell)\n",
    "        \n",
    "        # Pass actual and preds through loss function\n",
    "        loss = loss_fn(german_output, preds)\n",
    "        gradients = tape.gradient(loss, (encode_model.trainable_variables+decode_model.trainable_variables))\n",
    "        return loss, gradients"
   ]
  },
  {
   "cell_type": "code",
   "execution_count": 93,
   "metadata": {},
   "outputs": [],
   "source": [
    "# Create training function\n",
    "\n",
    "def train_data(encoder, decoder, train_data, val_data, loss_fn, optimizer, epochs):\n",
    "    train_loss_results = []\n",
    "    val_loss_results = []\n",
    "    \n",
    "    # Iterate epoch times\n",
    "    for epoch in range(epochs):\n",
    "        \n",
    "        # Track epoch\n",
    "        start_time = time.time()\n",
    "        \n",
    "        # Create Mean functions\n",
    "        train_loss_avg, val_loss_avg = tf.keras.metrics.Mean(), tf.keras.metrics.Mean()\n",
    "\n",
    "        print(f'Epoch: {epoch:03d}')\n",
    "        \n",
    "        # Iterate through training data\n",
    "        for english, german in train_data:\n",
    "            # Pass models, loss_fn, and training data through grad_fn\n",
    "            loss_train, gradients = grad_fn(encoder, decoder, \n",
    "                                            loss_fn,\n",
    "                                            english, german)\n",
    "            \n",
    "            # Apply grads to encoder and decoder\n",
    "            optimizer.apply_gradients(zip(gradients, \n",
    "                                          encoder.trainable_variables+decoder.trainable_variables))\n",
    "            \n",
    "            train_loss_avg(loss_train)\n",
    "        train_loss_results.append(train_loss_avg.result())\n",
    "        \n",
    "        # Print training time and loss\n",
    "        print(f'Time: {(time.time()-start_time):.3f}, Loss: {train_loss_results[-1]:.3f}')\n",
    "        val_time = time.time()\n",
    "        \n",
    "        # Iterate through validation data\n",
    "        for english, german in val_data:\n",
    "            # Get predictions for german input\n",
    "            german_input, german_output = german_inout(german)\n",
    "            hidden, cell = encoder(english)\n",
    "            decode_output, _, _ = decoder(german_input, hidden, cell)\n",
    "            \n",
    "            # Get loss for predictions\n",
    "            batch_val_loss = loss_fn(german_output, decode_output)\n",
    "            val_loss_avg(batch_val_loss)\n",
    "        val_loss_results.append(val_loss_avg.result())\n",
    "            \n",
    "        # Print validation time and val_loss\n",
    "        print(f'Time_val: {(time.time()-val_time):.3f}, Loss_val: {val_loss_results[-1]:.3f}')\n",
    "\n",
    "    return train_loss_results, val_loss_results\n",
    "            "
   ]
  },
  {
   "cell_type": "code",
   "execution_count": 94,
   "metadata": {},
   "outputs": [],
   "source": [
    "# Create variables for training\n",
    "encode_model = build_encode((13, 128))\n",
    "decode_model = DecoderModel()\n",
    "loss_obj = tf.keras.losses.SparseCategoricalCrossentropy(from_logits=True)\n",
    "opt_obj = tf.keras.optimizers.Adam()"
   ]
  },
  {
   "cell_type": "code",
   "execution_count": 95,
   "metadata": {
    "collapsed": true
   },
   "outputs": [
    {
     "name": "stdout",
     "output_type": "stream",
     "text": [
      "Epoch: 000\n"
     ]
    },
    {
     "ename": "KeyboardInterrupt",
     "evalue": "",
     "output_type": "error",
     "traceback": [
      "\u001b[0;31m---------------------------------------------------------------------------\u001b[0m",
      "\u001b[0;31mKeyboardInterrupt\u001b[0m                         Traceback (most recent call last)",
      "\u001b[0;32m<ipython-input-95-102ebc97452d>\u001b[0m in \u001b[0;36m<module>\u001b[0;34m\u001b[0m\n\u001b[1;32m      1\u001b[0m \u001b[0;31m# Train model\u001b[0m\u001b[0;34m\u001b[0m\u001b[0;34m\u001b[0m\u001b[0;34m\u001b[0m\u001b[0m\n\u001b[1;32m      2\u001b[0m \u001b[0;34m\u001b[0m\u001b[0m\n\u001b[0;32m----> 3\u001b[0;31m \u001b[0mtrain_loss\u001b[0m\u001b[0;34m,\u001b[0m \u001b[0mval_loss\u001b[0m \u001b[0;34m=\u001b[0m \u001b[0mtrain_data\u001b[0m\u001b[0;34m(\u001b[0m\u001b[0mencode_model\u001b[0m\u001b[0;34m,\u001b[0m \u001b[0mdecode_model\u001b[0m\u001b[0;34m,\u001b[0m \u001b[0mtrain_dataset\u001b[0m\u001b[0;34m,\u001b[0m \u001b[0mvalid_dataset\u001b[0m\u001b[0;34m,\u001b[0m \u001b[0mloss_obj\u001b[0m\u001b[0;34m,\u001b[0m \u001b[0mopt_obj\u001b[0m\u001b[0;34m,\u001b[0m \u001b[0;36m4\u001b[0m\u001b[0;34m)\u001b[0m\u001b[0;34m\u001b[0m\u001b[0;34m\u001b[0m\u001b[0m\n\u001b[0m",
      "\u001b[0;32m<ipython-input-93-e57f9b496aef>\u001b[0m in \u001b[0;36mtrain_data\u001b[0;34m(encoder, decoder, train_data, val_data, loss_fn, optimizer, epochs)\u001b[0m\n\u001b[1;32m     17\u001b[0m \u001b[0;34m\u001b[0m\u001b[0m\n\u001b[1;32m     18\u001b[0m         \u001b[0;31m# Iterate through training data\u001b[0m\u001b[0;34m\u001b[0m\u001b[0;34m\u001b[0m\u001b[0;34m\u001b[0m\u001b[0m\n\u001b[0;32m---> 19\u001b[0;31m         \u001b[0;32mfor\u001b[0m \u001b[0menglish\u001b[0m\u001b[0;34m,\u001b[0m \u001b[0mgerman\u001b[0m \u001b[0;32min\u001b[0m \u001b[0mtrain_data\u001b[0m\u001b[0;34m:\u001b[0m\u001b[0;34m\u001b[0m\u001b[0;34m\u001b[0m\u001b[0m\n\u001b[0m\u001b[1;32m     20\u001b[0m             \u001b[0;31m# Pass models, loss_fn, and training data through grad_fn\u001b[0m\u001b[0;34m\u001b[0m\u001b[0;34m\u001b[0m\u001b[0;34m\u001b[0m\u001b[0m\n\u001b[1;32m     21\u001b[0m             loss_train, gradients = grad_fn(encoder, decoder, \n",
      "\u001b[0;32m/opt/conda/lib/python3.7/site-packages/tensorflow_core/python/data/ops/iterator_ops.py\u001b[0m in \u001b[0;36m__next__\u001b[0;34m(self)\u001b[0m\n\u001b[1;32m    620\u001b[0m \u001b[0;34m\u001b[0m\u001b[0m\n\u001b[1;32m    621\u001b[0m   \u001b[0;32mdef\u001b[0m \u001b[0m__next__\u001b[0m\u001b[0;34m(\u001b[0m\u001b[0mself\u001b[0m\u001b[0;34m)\u001b[0m\u001b[0;34m:\u001b[0m  \u001b[0;31m# For Python 3 compatibility\u001b[0m\u001b[0;34m\u001b[0m\u001b[0;34m\u001b[0m\u001b[0m\n\u001b[0;32m--> 622\u001b[0;31m     \u001b[0;32mreturn\u001b[0m \u001b[0mself\u001b[0m\u001b[0;34m.\u001b[0m\u001b[0mnext\u001b[0m\u001b[0;34m(\u001b[0m\u001b[0;34m)\u001b[0m\u001b[0;34m\u001b[0m\u001b[0;34m\u001b[0m\u001b[0m\n\u001b[0m\u001b[1;32m    623\u001b[0m \u001b[0;34m\u001b[0m\u001b[0m\n\u001b[1;32m    624\u001b[0m   \u001b[0;32mdef\u001b[0m \u001b[0m_next_internal\u001b[0m\u001b[0;34m(\u001b[0m\u001b[0mself\u001b[0m\u001b[0;34m)\u001b[0m\u001b[0;34m:\u001b[0m\u001b[0;34m\u001b[0m\u001b[0;34m\u001b[0m\u001b[0m\n",
      "\u001b[0;32m/opt/conda/lib/python3.7/site-packages/tensorflow_core/python/data/ops/iterator_ops.py\u001b[0m in \u001b[0;36mnext\u001b[0;34m(self)\u001b[0m\n\u001b[1;32m    664\u001b[0m     \u001b[0;34m\"\"\"Returns a nested structure of `Tensor`s containing the next element.\"\"\"\u001b[0m\u001b[0;34m\u001b[0m\u001b[0;34m\u001b[0m\u001b[0m\n\u001b[1;32m    665\u001b[0m     \u001b[0;32mtry\u001b[0m\u001b[0;34m:\u001b[0m\u001b[0;34m\u001b[0m\u001b[0;34m\u001b[0m\u001b[0m\n\u001b[0;32m--> 666\u001b[0;31m       \u001b[0;32mreturn\u001b[0m \u001b[0mself\u001b[0m\u001b[0;34m.\u001b[0m\u001b[0m_next_internal\u001b[0m\u001b[0;34m(\u001b[0m\u001b[0;34m)\u001b[0m\u001b[0;34m\u001b[0m\u001b[0;34m\u001b[0m\u001b[0m\n\u001b[0m\u001b[1;32m    667\u001b[0m     \u001b[0;32mexcept\u001b[0m \u001b[0merrors\u001b[0m\u001b[0;34m.\u001b[0m\u001b[0mOutOfRangeError\u001b[0m\u001b[0;34m:\u001b[0m\u001b[0;34m\u001b[0m\u001b[0;34m\u001b[0m\u001b[0m\n\u001b[1;32m    668\u001b[0m       \u001b[0;32mraise\u001b[0m \u001b[0mStopIteration\u001b[0m\u001b[0;34m\u001b[0m\u001b[0;34m\u001b[0m\u001b[0m\n",
      "\u001b[0;32m/opt/conda/lib/python3.7/site-packages/tensorflow_core/python/data/ops/iterator_ops.py\u001b[0m in \u001b[0;36m_next_internal\u001b[0;34m(self)\u001b[0m\n\u001b[1;32m    649\u001b[0m             \u001b[0mself\u001b[0m\u001b[0;34m.\u001b[0m\u001b[0m_iterator_resource\u001b[0m\u001b[0;34m,\u001b[0m\u001b[0;34m\u001b[0m\u001b[0;34m\u001b[0m\u001b[0m\n\u001b[1;32m    650\u001b[0m             \u001b[0moutput_types\u001b[0m\u001b[0;34m=\u001b[0m\u001b[0mself\u001b[0m\u001b[0;34m.\u001b[0m\u001b[0m_flat_output_types\u001b[0m\u001b[0;34m,\u001b[0m\u001b[0;34m\u001b[0m\u001b[0;34m\u001b[0m\u001b[0m\n\u001b[0;32m--> 651\u001b[0;31m             output_shapes=self._flat_output_shapes)\n\u001b[0m\u001b[1;32m    652\u001b[0m \u001b[0;34m\u001b[0m\u001b[0m\n\u001b[1;32m    653\u001b[0m       \u001b[0;32mtry\u001b[0m\u001b[0;34m:\u001b[0m\u001b[0;34m\u001b[0m\u001b[0;34m\u001b[0m\u001b[0m\n",
      "\u001b[0;32m/opt/conda/lib/python3.7/site-packages/tensorflow_core/python/ops/gen_dataset_ops.py\u001b[0m in \u001b[0;36miterator_get_next_sync\u001b[0;34m(iterator, output_types, output_shapes, name)\u001b[0m\n\u001b[1;32m   2657\u001b[0m         \u001b[0m_ctx\u001b[0m\u001b[0;34m.\u001b[0m\u001b[0m_context_handle\u001b[0m\u001b[0;34m,\u001b[0m \u001b[0m_ctx\u001b[0m\u001b[0;34m.\u001b[0m\u001b[0m_thread_local_data\u001b[0m\u001b[0;34m.\u001b[0m\u001b[0mdevice_name\u001b[0m\u001b[0;34m,\u001b[0m\u001b[0;34m\u001b[0m\u001b[0;34m\u001b[0m\u001b[0m\n\u001b[1;32m   2658\u001b[0m         \u001b[0;34m\"IteratorGetNextSync\"\u001b[0m\u001b[0;34m,\u001b[0m \u001b[0mname\u001b[0m\u001b[0;34m,\u001b[0m \u001b[0m_ctx\u001b[0m\u001b[0;34m.\u001b[0m\u001b[0m_post_execution_callbacks\u001b[0m\u001b[0;34m,\u001b[0m \u001b[0miterator\u001b[0m\u001b[0;34m,\u001b[0m\u001b[0;34m\u001b[0m\u001b[0;34m\u001b[0m\u001b[0m\n\u001b[0;32m-> 2659\u001b[0;31m         \"output_types\", output_types, \"output_shapes\", output_shapes)\n\u001b[0m\u001b[1;32m   2660\u001b[0m       \u001b[0;32mreturn\u001b[0m \u001b[0m_result\u001b[0m\u001b[0;34m\u001b[0m\u001b[0;34m\u001b[0m\u001b[0m\n\u001b[1;32m   2661\u001b[0m     \u001b[0;32mexcept\u001b[0m \u001b[0m_core\u001b[0m\u001b[0;34m.\u001b[0m\u001b[0m_FallbackException\u001b[0m\u001b[0;34m:\u001b[0m\u001b[0;34m\u001b[0m\u001b[0;34m\u001b[0m\u001b[0m\n",
      "\u001b[0;31mKeyboardInterrupt\u001b[0m: "
     ]
    }
   ],
   "source": [
    "# Train model\n",
    "\n",
    "train_loss, val_loss = train_data(encode_model, decode_model, train_dataset, valid_dataset, loss_obj, opt_obj, 4)"
   ]
  },
  {
   "cell_type": "code",
   "execution_count": 55,
   "metadata": {},
   "outputs": [
    {
     "data": {
      "image/png": "[encoded data removed]",
      "text/plain": [
       "<Figure size 720x720 with 1 Axes>"
      ]
     },
     "metadata": {
      "needs_background": "light"
     },
     "output_type": "display_data"
    }
   ],
   "source": [
    "# Plot valid v train\n",
    "\n",
    "fig, ax = plt.subplots(1, 1, sharex=True, figsize=(10, 10))\n",
    "ax.plot(train_loss, label='Training')\n",
    "ax.plot(val_loss, label='Valid')\n",
    "ax.legend(loc='upper right')\n",
    "ax.set_title('Loss vs Epoch')\n",
    "ax.set_xlabel('Epoch')\n",
    "ax.set_ylabel('Loss')\n",
    "plt.show()"
   ]
  },
  {
   "cell_type": "markdown",
   "metadata": {},
   "source": [
    "## 7. Use the model to translate\n",
    "Now it's time to put your model into practice! You should run your translation for five randomly sampled English sentences from the dataset. For each sentence, the process is as follows:\n",
    "* Preprocess and embed the English sentence according to the model requirements.\n",
    "* Pass the embedded sentence through the encoder to get the encoder hidden and cell states.\n",
    "* Starting with the special  `\"<start>\"` token, use this token and the final encoder hidden and cell states to get the one-step prediction from the decoder, as well as the decoder’s updated hidden and cell states.\n",
    "* Create a loop to get the next step prediction and updated hidden and cell states from the decoder, using the most recent hidden and cell states. Terminate the loop when the `\"<end>\"` token is emitted, or when the sentence has reached a maximum length.\n",
    "* Decode the output token sequence into German text and print the English text and the model's German translation."
   ]
  },
  {
   "cell_type": "code",
   "execution_count": 56,
   "metadata": {},
   "outputs": [],
   "source": [
    "# Get random examples from data\n",
    "random_idx = np.random.randint(0, 20_000, 5)\n",
    "rndm_english = english_pre[random_idx]\n",
    "rndm_german = german_seq[random_idx]\n",
    "\n",
    "# Pass rndm examples through english preprocessing\n",
    "rndm_dataset = tf.data.Dataset.from_tensor_slices((rndm_english, rndm_german))\n",
    "trans_dataset = modify_english(rndm_dataset)"
   ]
  },
  {
   "cell_type": "code",
   "execution_count": 63,
   "metadata": {},
   "outputs": [],
   "source": [
    "sos = tokenizer.word_index['<sos>']\n",
    "eos = tokenizer.word_index['<eos>']\n",
    "trans_eng_ger = []\n",
    "\n",
    "# Iterate through examples\n",
    "for idx, (eng, exp) in enumerate(trans_dataset):\n",
    "    token = tf.Variable([[sos]])\n",
    "    trans_ger = [sos]\n",
    "    co = 0\n",
    "\n",
    "    # Hidden and cell state from encoder model\n",
    "    hidden, cell = encode_model(eng[np.newaxis,...])\n",
    "    \n",
    "    # Loop till 'end' token produced by decoder model\n",
    "    while trans_ger[-1] != eos and co < 13:\n",
    "        # Get pred from decoder\n",
    "        preds, hidden, cell = decode_model(token, hidden, cell)\n",
    "        \n",
    "        # Get max val from pred logits\n",
    "        pred = tf.argmax(preds, axis=-1).numpy()[0][0]\n",
    "        token = tf.Variable([[pred]])\n",
    "        \n",
    "        # Add predicted german to array\n",
    "        trans_ger.append(pred)\n",
    "        co += 1\n",
    "\n",
    "    trans_eng_ger.append((rndm_english[idx], exp, trans_ger))"
   ]
  },
  {
   "cell_type": "code",
   "execution_count": 64,
   "metadata": {},
   "outputs": [
    {
     "name": "stdout",
     "output_type": "stream",
     "text": [
      "English: don't insult me .\n",
      "German Actual: ['<sos> beleidigen sie mich nicht ! <eos>']\n",
      "German Predicted: ['<sos> ! mach mach mach mach mach mach']\n",
      "\n",
      "English: there's no water .\n",
      "German Actual: ['<sos> es gibt kein wasser . <eos>']\n",
      "German Predicted: ['<sos> ! mach mach mach mach mach mach']\n",
      "\n",
      "English: i cook for tom .\n",
      "German Actual: ['<sos> ich koche fuer tom . <eos>']\n",
      "German Predicted: ['<sos> ! mach mach mach mach mach mach']\n",
      "\n",
      "English: try to smile .\n",
      "German Actual: ['<sos> versuch doch mal zu laecheln . <eos>']\n",
      "German Predicted: ['<sos> ! mach mach mach mach mach mach']\n",
      "\n",
      "English: i travel light .\n",
      "German Actual: ['<sos> ich reise mit wenig gepaeck . <eos>']\n",
      "German Predicted: ['<sos> ! mach mach mach mach mach mach']\n",
      "\n"
     ]
    }
   ],
   "source": [
    "# Display translations\n",
    "\n",
    "for (eng, ger_act, ger_pred) in trans_eng_ger:\n",
    "    print(f'English: {eng}')\n",
    "    print(f'German Actual: {tokenizer.sequences_to_texts([ger_act.numpy()])}')\n",
    "    print(f'German Predicted: {tokenizer.sequences_to_texts([ger_pred])}')  \n",
    "    print()"
   ]
  },
  {
   "cell_type": "code",
   "execution_count": null,
   "metadata": {},
   "outputs": [],
   "source": []
  }
 ],
 "metadata": {
  "kernelspec": {
   "display_name": "Python 3",
   "language": "python",
   "name": "python3"
  },
  "language_info": {
   "codemirror_mode": {
    "name": "ipython",
    "version": 3
   },
   "file_extension": ".py",
   "mimetype": "text/x-python",
   "name": "python",
   "nbconvert_exporter": "python",
   "pygments_lexer": "ipython3",
   "version": "3.7.1"
  }
 },
 "nbformat": 4,
 "nbformat_minor": 2
}
